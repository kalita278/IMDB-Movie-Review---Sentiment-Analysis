{
 "cells": [
  {
   "cell_type": "code",
   "execution_count": 1,
   "id": "64708459-b73a-4b1a-a781-8e574b0ee72f",
   "metadata": {},
   "outputs": [],
   "source": [
    "import numpy as np\n",
    "import pandas as pd\n",
    "import tensorflow as tf\n",
    "from tensorflow.keras.datasets import imdb"
   ]
  },
  {
   "cell_type": "code",
   "execution_count": 2,
   "id": "142125a7-8d52-4c74-982a-409b58047c2c",
   "metadata": {},
   "outputs": [],
   "source": [
    "import matplotlib.pyplot as plt\n",
    "import seaborn as sns"
   ]
  },
  {
   "cell_type": "code",
   "execution_count": 3,
   "id": "6420c779-5aae-4e7d-ada3-e4d96f227b9b",
   "metadata": {},
   "outputs": [],
   "source": [
    "#importing the training and testing dataset\n",
    "(x_train, y_train), (x_test, y_test) = imdb.load_data(num_words=10000)"
   ]
  },
  {
   "cell_type": "code",
   "execution_count": 4,
   "id": "c8097a78-783d-4618-91a6-3a9cc37fe3a8",
   "metadata": {},
   "outputs": [
    {
     "name": "stdout",
     "output_type": "stream",
     "text": [
      "dimension of x_train: (25000,)\n",
      "dimension of y_train: (25000,)\n",
      "dimension of x_test: (25000,)\n",
      "dimension of y_test: (25000,)\n"
     ]
    }
   ],
   "source": [
    "#Checking the dimensions of the features and labels for both training and testing set\n",
    "print(\"dimension of x_train:\", x_train.shape)\n",
    "print(\"dimension of y_train:\", y_train.shape)\n",
    "print(\"dimension of x_test:\", x_test.shape)\n",
    "print(\"dimension of y_test:\", y_test.shape)"
   ]
  },
  {
   "cell_type": "code",
   "execution_count": 5,
   "id": "c17e117c-c995-4d21-8126-b2116a20f691",
   "metadata": {},
   "outputs": [],
   "source": [
    "#Combining both training and testing\n",
    "data = np.concatenate([x_train, x_test], axis=0)\n",
    "labels = np.concatenate([y_train, y_test],axis = 0)"
   ]
  },
  {
   "cell_type": "code",
   "execution_count": 6,
   "id": "692dc974-e911-4d6d-b6b5-948956a42b03",
   "metadata": {},
   "outputs": [
    {
     "name": "stdout",
     "output_type": "stream",
     "text": [
      "shape of features: (50000,)\n",
      "shape of labels: (50000,)\n"
     ]
    }
   ],
   "source": [
    "#Printing the shapes\n",
    "print(\"shape of features:\", data.shape)\n",
    "print(\"shape of labels:\", labels.shape)"
   ]
  },
  {
   "cell_type": "code",
   "execution_count": 7,
   "id": "2ef697b6-cef4-415f-b0b7-8262a678a970",
   "metadata": {},
   "outputs": [
    {
     "name": "stdout",
     "output_type": "stream",
     "text": [
      "[1, 194, 1153, 194, 8255, 78, 228, 5, 6, 1463, 4369, 5012, 134, 26, 4, 715, 8, 118, 1634, 14, 394, 20, 13, 119, 954, 189, 102, 5, 207, 110, 3103, 21, 14, 69, 188, 8, 30, 23, 7, 4, 249, 126, 93, 4, 114, 9, 2300, 1523, 5, 647, 4, 116, 9, 35, 8163, 4, 229, 9, 340, 1322, 4, 118, 9, 4, 130, 4901, 19, 4, 1002, 5, 89, 29, 952, 46, 37, 4, 455, 9, 45, 43, 38, 1543, 1905, 398, 4, 1649, 26, 6853, 5, 163, 11, 3215, 2, 4, 1153, 9, 194, 775, 7, 8255, 2, 349, 2637, 148, 605, 2, 8003, 15, 123, 125, 68, 2, 6853, 15, 349, 165, 4362, 98, 5, 4, 228, 9, 43, 2, 1157, 15, 299, 120, 5, 120, 174, 11, 220, 175, 136, 50, 9, 4373, 228, 8255, 5, 2, 656, 245, 2350, 5, 4, 9837, 131, 152, 491, 18, 2, 32, 7464, 1212, 14, 9, 6, 371, 78, 22, 625, 64, 1382, 9, 8, 168, 145, 23, 4, 1690, 15, 16, 4, 1355, 5, 28, 6, 52, 154, 462, 33, 89, 78, 285, 16, 145, 95]\n"
     ]
    }
   ],
   "source": [
    "#Printing the value of one feature\n",
    "print(data[1])"
   ]
  },
  {
   "cell_type": "code",
   "execution_count": 8,
   "id": "ab2adf08-d67c-4f75-a1ff-986c9fe338f2",
   "metadata": {},
   "outputs": [
    {
     "name": "stdout",
     "output_type": "stream",
     "text": [
      "0\n"
     ]
    }
   ],
   "source": [
    "#Printing the label\n",
    "print(labels[1])"
   ]
  },
  {
   "cell_type": "code",
   "execution_count": 9,
   "id": "50724d20-b095-454b-946c-82710df0d677",
   "metadata": {},
   "outputs": [],
   "source": [
    "#Decoding the feature value to get original sentence\n",
    "ind = imdb.get_word_index()\n",
    "rev_ind = dict([(value, key) for (key,value) in ind.items()])"
   ]
  },
  {
   "cell_type": "code",
   "execution_count": 10,
   "id": "558103e4-9e13-4793-9460-b72ce83d8b47",
   "metadata": {},
   "outputs": [
    {
     "name": "stdout",
     "output_type": "stream",
     "text": [
      "# this film was just brilliant casting location scenery story direction everyone's really suited the part they played and you could just imagine being there robert # is an amazing actor and now the same being director # father came from the same scottish island as myself so i loved the fact there was a real connection with this film the witty remarks throughout the film were great it was just brilliant so much that i bought the film as soon as it was released for # and would recommend it to everyone to watch and the fly fishing was amazing really cried at the end it was so sad and you know what they say if you cry at a film it must have been good and this definitely was also # to the two little boy's that played the # of norman and paul they were just brilliant children are often left out of the # list i think because the stars that play them all grown up are such a big profile for the whole film but these children are amazing and should be praised for what they have done don't you think the whole story was so lovely because it was true and was someone's life after all that was shared with us all\n"
     ]
    }
   ],
   "source": [
    "#decoding the sentence at index 0\n",
    "decoded_list = []\n",
    "for i in data[0]:\n",
    "    char = rev_ind.get(i-3, '#')\n",
    "    decoded_list.append(char)\n",
    "decoded_sentence = \" \".join(wrd for wrd in decoded_list)\n",
    "print(decoded_sentence)"
   ]
  },
  {
   "cell_type": "code",
   "execution_count": 11,
   "id": "7eec6061-d8d1-4e30-8a54-9899a321a491",
   "metadata": {},
   "outputs": [
    {
     "name": "stdout",
     "output_type": "stream",
     "text": [
      "Categories: [0 1]\n"
     ]
    }
   ],
   "source": [
    "#Printing the categories\n",
    "print(\"Categories:\", np.unique(labels))"
   ]
  },
  {
   "cell_type": "code",
   "execution_count": 12,
   "id": "7bcde058-f869-490f-83a8-770deda89980",
   "metadata": {},
   "outputs": [
    {
     "data": {
      "text/plain": [
       "<Axes: xlabel='labels', ylabel='count'>"
      ]
     },
     "execution_count": 12,
     "metadata": {},
     "output_type": "execute_result"
    },
    {
     "data": {
      "image/png": "[encoded data removed]",
      "text/plain": [
       "<Figure size 640x480 with 1 Axes>"
      ]
     },
     "metadata": {},
     "output_type": "display_data"
    }
   ],
   "source": [
    "#Checking the distribution of target variable\n",
    "labels = np.array(labels).astype('float32')\n",
    "lbl_df = pd.DataFrame({\"labels\":labels})\n",
    "sns.countplot(x = 'labels', data = lbl_df)"
   ]
  },
  {
   "cell_type": "markdown",
   "id": "6f160261-dfca-4fd0-a511-7b689eeabd1d",
   "metadata": {},
   "source": [
    "The labels are equally distributed."
   ]
  },
  {
   "cell_type": "markdown",
   "id": "bf12708e-47dd-473e-b6a6-c69f98139dff",
   "metadata": {},
   "source": [
    "### Vectorizing or sequence adding on the data"
   ]
  },
  {
   "cell_type": "code",
   "execution_count": 13,
   "id": "80aa69f5-8408-48a6-b65e-9de1f4eee498",
   "metadata": {},
   "outputs": [],
   "source": [
    "def vectorize(seqs, dim=10000):\n",
    "    vec = np.zeros((len(seqs),dim))\n",
    "    for i in range(len(seqs)):\n",
    "        for j in seqs[i]:\n",
    "            vec[i,j] = 1\n",
    "    return vec"
   ]
  },
  {
   "cell_type": "code",
   "execution_count": 14,
   "id": "4b2fc0a5-4b0e-443d-a040-4ba710c693e7",
   "metadata": {},
   "outputs": [],
   "source": [
    "data_vec = vectorize(data)"
   ]
  },
  {
   "cell_type": "code",
   "execution_count": 15,
   "id": "e25fce68-caa5-4fd6-8757-f43f4170db32",
   "metadata": {},
   "outputs": [],
   "source": [
    "#Splitting the data into train and test set\n",
    "x_train = data_vec[:40000]\n",
    "x_test = data_vec[40000:]\n",
    "y_train = labels[:40000]\n",
    "y_test = labels[40000:]"
   ]
  },
  {
   "cell_type": "markdown",
   "id": "40c646db-4410-4639-ae8e-f54e0633d1d7",
   "metadata": {},
   "source": [
    "### Model Building"
   ]
  },
  {
   "cell_type": "markdown",
   "id": "561d5e23-9587-45f0-92bb-e441f76feb4a",
   "metadata": {},
   "source": [
    "### Naive Bayes"
   ]
  },
  {
   "cell_type": "code",
   "execution_count": 16,
   "id": "857ec141-adfa-459c-b2b5-aabd2a8a7068",
   "metadata": {},
   "outputs": [],
   "source": [
    "from sklearn.naive_bayes import MultinomialNB"
   ]
  },
  {
   "cell_type": "code",
   "execution_count": 17,
   "id": "e84a489e-bac6-4bb2-8c24-ae9e8b9b8d1c",
   "metadata": {},
   "outputs": [
    {
     "data": {
      "text/html": [
       "<style>#sk-container-id-1 {color: black;background-color: white;}#sk-container-id-1 pre{padding: 0;}#sk-container-id-1 div.sk-toggleable {background-color: white;}#sk-container-id-1 label.sk-toggleable__label {cursor: pointer;display: block;width: 100%;margin-bottom: 0;padding: 0.3em;box-sizing: border-box;text-align: center;}#sk-container-id-1 label.sk-toggleable__label-arrow:before {content: \"▸\";float: left;margin-right: 0.25em;color: #696969;}#sk-container-id-1 label.sk-toggleable__label-arrow:hover:before {color: black;}#sk-container-id-1 div.sk-estimator:hover label.sk-toggleable__label-arrow:before {color: black;}#sk-container-id-1 div.sk-toggleable__content {max-height: 0;max-width: 0;overflow: hidden;text-align: left;background-color: #f0f8ff;}#sk-container-id-1 div.sk-toggleable__content pre {margin: 0.2em;color: black;border-radius: 0.25em;background-color: #f0f8ff;}#sk-container-id-1 input.sk-toggleable__control:checked~div.sk-toggleable__content {max-height: 200px;max-width: 100%;overflow: auto;}#sk-container-id-1 input.sk-toggleable__control:checked~label.sk-toggleable__label-arrow:before {content: \"▾\";}#sk-container-id-1 div.sk-estimator input.sk-toggleable__control:checked~label.sk-toggleable__label {background-color: #d4ebff;}#sk-container-id-1 div.sk-label input.sk-toggleable__control:checked~label.sk-toggleable__label {background-color: #d4ebff;}#sk-container-id-1 input.sk-hidden--visually {border: 0;clip: rect(1px 1px 1px 1px);clip: rect(1px, 1px, 1px, 1px);height: 1px;margin: -1px;overflow: hidden;padding: 0;position: absolute;width: 1px;}#sk-container-id-1 div.sk-estimator {font-family: monospace;background-color: #f0f8ff;border: 1px dotted black;border-radius: 0.25em;box-sizing: border-box;margin-bottom: 0.5em;}#sk-container-id-1 div.sk-estimator:hover {background-color: #d4ebff;}#sk-container-id-1 div.sk-parallel-item::after {content: \"\";width: 100%;border-bottom: 1px solid gray;flex-grow: 1;}#sk-container-id-1 div.sk-label:hover label.sk-toggleable__label {background-color: #d4ebff;}#sk-container-id-1 div.sk-serial::before {content: \"\";position: absolute;border-left: 1px solid gray;box-sizing: border-box;top: 0;bottom: 0;left: 50%;z-index: 0;}#sk-container-id-1 div.sk-serial {display: flex;flex-direction: column;align-items: center;background-color: white;padding-right: 0.2em;padding-left: 0.2em;position: relative;}#sk-container-id-1 div.sk-item {position: relative;z-index: 1;}#sk-container-id-1 div.sk-parallel {display: flex;align-items: stretch;justify-content: center;background-color: white;position: relative;}#sk-container-id-1 div.sk-item::before, #sk-container-id-1 div.sk-parallel-item::before {content: \"\";position: absolute;border-left: 1px solid gray;box-sizing: border-box;top: 0;bottom: 0;left: 50%;z-index: -1;}#sk-container-id-1 div.sk-parallel-item {display: flex;flex-direction: column;z-index: 1;position: relative;background-color: white;}#sk-container-id-1 div.sk-parallel-item:first-child::after {align-self: flex-end;width: 50%;}#sk-container-id-1 div.sk-parallel-item:last-child::after {align-self: flex-start;width: 50%;}#sk-container-id-1 div.sk-parallel-item:only-child::after {width: 0;}#sk-container-id-1 div.sk-dashed-wrapped {border: 1px dashed gray;margin: 0 0.4em 0.5em 0.4em;box-sizing: border-box;padding-bottom: 0.4em;background-color: white;}#sk-container-id-1 div.sk-label label {font-family: monospace;font-weight: bold;display: inline-block;line-height: 1.2em;}#sk-container-id-1 div.sk-label-container {text-align: center;}#sk-container-id-1 div.sk-container {/* jupyter's `normalize.less` sets `[hidden] { display: none; }` but bootstrap.min.css set `[hidden] { display: none !important; }` so we also need the `!important` here to be able to override the default hidden behavior on the sphinx rendered scikit-learn.org. See: https://github.com/scikit-learn/scikit-learn/issues/21755 */display: inline-block !important;position: relative;}#sk-container-id-1 div.sk-text-repr-fallback {display: none;}</style><div id=\"sk-container-id-1\" class=\"sk-top-container\"><div class=\"sk-text-repr-fallback\"><pre>MultinomialNB()</pre><b>In a Jupyter environment, please rerun this cell to show the HTML representation or trust the notebook. <br />On GitHub, the HTML representation is unable to render, please try loading this page with nbviewer.org.</b></div><div class=\"sk-container\" hidden><div class=\"sk-item\"><div class=\"sk-estimator sk-toggleable\"><input class=\"sk-toggleable__control sk-hidden--visually\" id=\"sk-estimator-id-1\" type=\"checkbox\" checked><label for=\"sk-estimator-id-1\" class=\"sk-toggleable__label sk-toggleable__label-arrow\">MultinomialNB</label><div class=\"sk-toggleable__content\"><pre>MultinomialNB()</pre></div></div></div></div></div>"
      ],
      "text/plain": [
       "MultinomialNB()"
      ]
     },
     "execution_count": 17,
     "metadata": {},
     "output_type": "execute_result"
    }
   ],
   "source": [
    "#Building and training the model\n",
    "nb = MultinomialNB()\n",
    "nb.fit(x_train,y_train)"
   ]
  },
  {
   "cell_type": "code",
   "execution_count": 18,
   "id": "30f9f675-6fbf-4434-9539-434d53bb3eb2",
   "metadata": {},
   "outputs": [
    {
     "data": {
      "text/plain": [
       "0.8618"
      ]
     },
     "execution_count": 18,
     "metadata": {},
     "output_type": "execute_result"
    }
   ],
   "source": [
    "#Training accuracy\n",
    "nb.score(x_train,y_train)"
   ]
  },
  {
   "cell_type": "code",
   "execution_count": 19,
   "id": "6bb135b2-122f-4fd2-9e1a-3a5bf9b6404a",
   "metadata": {},
   "outputs": [
    {
     "data": {
      "text/plain": [
       "0.848"
      ]
     },
     "execution_count": 19,
     "metadata": {},
     "output_type": "execute_result"
    }
   ],
   "source": [
    "#Testing accuracy\n",
    "nb.score(x_test,y_test)"
   ]
  },
  {
   "cell_type": "code",
   "execution_count": 20,
   "id": "cbf99b6a-9f47-470d-8906-12786dd42ac8",
   "metadata": {},
   "outputs": [],
   "source": [
    "#Prediction for x_test\n",
    "y_test_pred = nb.predict(x_test)"
   ]
  },
  {
   "cell_type": "code",
   "execution_count": 21,
   "id": "ba2d28f7-66dd-4aeb-a514-2ce3cde5f0b5",
   "metadata": {},
   "outputs": [],
   "source": [
    "from sklearn.metrics import classification_report, confusion_matrix"
   ]
  },
  {
   "cell_type": "code",
   "execution_count": 22,
   "id": "8368efb4-8d22-4598-9620-01d5ba5b3500",
   "metadata": {},
   "outputs": [
    {
     "data": {
      "text/plain": [
       "<Axes: >"
      ]
     },
     "execution_count": 22,
     "metadata": {},
     "output_type": "execute_result"
    },
    {
     "data": {
      "image/png": "[encoded data removed]",
      "text/plain": [
       "<Figure size 640x480 with 2 Axes>"
      ]
     },
     "metadata": {},
     "output_type": "display_data"
    }
   ],
   "source": [
    "#Plotting the confusion matrix\n",
    "cm = pd.DataFrame(confusion_matrix(y_test,y_test_pred),columns=['1','0'],index = ['pred 1','pred 0'])\n",
    "sns.heatmap(cm,fmt='0.04g',annot=True)"
   ]
  },
  {
   "cell_type": "code",
   "execution_count": 23,
   "id": "540d3b2c-1bff-4960-ad56-670426907e5b",
   "metadata": {},
   "outputs": [
    {
     "name": "stdout",
     "output_type": "stream",
     "text": [
      "              precision    recall  f1-score   support\n",
      "\n",
      "         0.0       0.83      0.88      0.85      4973\n",
      "         1.0       0.87      0.82      0.84      5027\n",
      "\n",
      "    accuracy                           0.85     10000\n",
      "   macro avg       0.85      0.85      0.85     10000\n",
      "weighted avg       0.85      0.85      0.85     10000\n",
      "\n"
     ]
    }
   ],
   "source": [
    "#printing Classification report\n",
    "print(classification_report(y_test, y_test_pred))"
   ]
  },
  {
   "cell_type": "markdown",
   "id": "b6f36d2d-2ceb-483d-962d-513c1ad07c74",
   "metadata": {},
   "source": [
    "We can see that, naive bayes model is performing well, we achieve an accuracy of 85% and macro f1 score od 0.85.\n",
    "\n",
    "Now lets try Neural Network."
   ]
  },
  {
   "cell_type": "markdown",
   "id": "1baf5598-5e95-42fb-b108-d2a2fd4f8e7c",
   "metadata": {},
   "source": [
    "### ANN Model"
   ]
  },
  {
   "cell_type": "code",
   "execution_count": 27,
   "id": "ee483dc0-71ec-4d72-ae0a-42059c9176f5",
   "metadata": {},
   "outputs": [],
   "source": [
    "#Building and compiling the model\n",
    "model = tf.keras.models.Sequential()\n",
    "model.add(tf.keras.layers.Dense(512, activation='relu'))\n",
    "model.add(tf.keras.layers.Dropout(0.4))\n",
    "model.add(tf.keras.layers.Dense(256, activation='relu'))\n",
    "model.add(tf.keras.layers.Dropout(0.4))\n",
    "model.add(tf.keras.layers.Dense(128,activation='relu'))\n",
    "model.add(tf.keras.layers.Dense(1,activation='sigmoid'))\n",
    "\n",
    "model.compile(optimizer = 'adam', loss = 'binary_crossentropy', metrics = ['accuracy'])"
   ]
  },
  {
   "cell_type": "code",
   "execution_count": 28,
   "id": "bebd5d2a-ad6a-4919-814f-0cae8ee52ce5",
   "metadata": {},
   "outputs": [],
   "source": [
    "#Defining the callbcks\n",
    "from tensorflow.keras.callbacks import EarlyStopping, ReduceLROnPlateau\n",
    "stop = EarlyStopping(patience=15,verbose=1)\n",
    "reduce_lr = ReduceLROnPlateau(factor=0.15, patience=6)"
   ]
  },
  {
   "cell_type": "code",
   "execution_count": 29,
   "id": "28a37117-b9ec-4758-b481-e578d486ec07",
   "metadata": {},
   "outputs": [
    {
     "name": "stdout",
     "output_type": "stream",
     "text": [
      "Epoch 1/50\n",
      "250/250 [==============================] - 29s 98ms/step - loss: 0.3264 - accuracy: 0.8583 - val_loss: 0.2834 - val_accuracy: 0.8819 - lr: 0.0010\n",
      "Epoch 2/50\n",
      "250/250 [==============================] - 21s 84ms/step - loss: 0.1812 - accuracy: 0.9296 - val_loss: 0.3025 - val_accuracy: 0.8798 - lr: 0.0010\n",
      "Epoch 3/50\n",
      "250/250 [==============================] - 21s 82ms/step - loss: 0.0906 - accuracy: 0.9685 - val_loss: 0.3940 - val_accuracy: 0.8763 - lr: 0.0010\n",
      "Epoch 4/50\n",
      "250/250 [==============================] - 20s 82ms/step - loss: 0.0460 - accuracy: 0.9834 - val_loss: 0.5172 - val_accuracy: 0.8758 - lr: 0.0010\n",
      "Epoch 5/50\n",
      "250/250 [==============================] - 21s 82ms/step - loss: 0.0328 - accuracy: 0.9886 - val_loss: 0.5393 - val_accuracy: 0.8745 - lr: 0.0010\n",
      "Epoch 6/50\n",
      "250/250 [==============================] - 22s 87ms/step - loss: 0.0260 - accuracy: 0.9910 - val_loss: 0.5673 - val_accuracy: 0.8758 - lr: 0.0010\n",
      "Epoch 7/50\n",
      "250/250 [==============================] - 25s 98ms/step - loss: 0.0210 - accuracy: 0.9927 - val_loss: 0.5466 - val_accuracy: 0.8765 - lr: 0.0010\n",
      "Epoch 8/50\n",
      "250/250 [==============================] - 24s 96ms/step - loss: 0.0107 - accuracy: 0.9968 - val_loss: 0.6082 - val_accuracy: 0.8786 - lr: 1.5000e-04\n",
      "Epoch 9/50\n",
      "250/250 [==============================] - 22s 86ms/step - loss: 0.0045 - accuracy: 0.9989 - val_loss: 0.6680 - val_accuracy: 0.8781 - lr: 1.5000e-04\n",
      "Epoch 10/50\n",
      "250/250 [==============================] - 22s 86ms/step - loss: 0.0026 - accuracy: 0.9992 - val_loss: 0.7346 - val_accuracy: 0.8792 - lr: 1.5000e-04\n",
      "Epoch 11/50\n",
      "250/250 [==============================] - 22s 86ms/step - loss: 0.0024 - accuracy: 0.9993 - val_loss: 0.7551 - val_accuracy: 0.8798 - lr: 1.5000e-04\n",
      "Epoch 12/50\n",
      "250/250 [==============================] - 22s 87ms/step - loss: 0.0015 - accuracy: 0.9996 - val_loss: 0.7970 - val_accuracy: 0.8816 - lr: 1.5000e-04\n",
      "Epoch 13/50\n",
      "250/250 [==============================] - 22s 87ms/step - loss: 0.0016 - accuracy: 0.9996 - val_loss: 0.8105 - val_accuracy: 0.8798 - lr: 1.5000e-04\n",
      "Epoch 14/50\n",
      "250/250 [==============================] - 21s 86ms/step - loss: 0.0015 - accuracy: 0.9996 - val_loss: 0.8130 - val_accuracy: 0.8802 - lr: 2.2500e-05\n",
      "Epoch 15/50\n",
      "250/250 [==============================] - 22s 90ms/step - loss: 0.0014 - accuracy: 0.9996 - val_loss: 0.8177 - val_accuracy: 0.8801 - lr: 2.2500e-05\n",
      "Epoch 16/50\n",
      "250/250 [==============================] - 22s 89ms/step - loss: 0.0013 - accuracy: 0.9997 - val_loss: 0.8233 - val_accuracy: 0.8800 - lr: 2.2500e-05\n",
      "Epoch 16: early stopping\n"
     ]
    }
   ],
   "source": [
    "#training the model\n",
    "history = model.fit(x_train, y_train,batch_size=128,epochs=50, validation_split=0.2,callbacks=[stop,reduce_lr])"
   ]
  },
  {
   "cell_type": "code",
   "execution_count": 30,
   "id": "8abda618-b8ac-4d22-905b-23bb9cf0022a",
   "metadata": {},
   "outputs": [
    {
     "data": {
      "image/png": "[encoded data removed]",
      "text/plain": [
       "<Figure size 640x480 with 1 Axes>"
      ]
     },
     "metadata": {},
     "output_type": "display_data"
    }
   ],
   "source": [
    "#plot train and val loss\n",
    "plt.plot(history.epoch,history.history['loss'])\n",
    "plt.plot(history.epoch,history.history['val_loss'])\n",
    "plt.title(\"plot loss vs val loss\")\n",
    "plt.legend((\"train\", \"validation\"))\n",
    "plt.show()"
   ]
  },
  {
   "cell_type": "code",
   "execution_count": 31,
   "id": "91f747cd-d3ef-4637-93dc-5309869c7e72",
   "metadata": {},
   "outputs": [
    {
     "data": {
      "image/png": "[encoded data removed]",
      "text/plain": [
       "<Figure size 640x480 with 1 Axes>"
      ]
     },
     "metadata": {},
     "output_type": "display_data"
    }
   ],
   "source": [
    "#plot train and val accuracy\n",
    "plt.plot(history.epoch,history.history['accuracy'])\n",
    "plt.plot(history.epoch,history.history['val_accuracy'])\n",
    "plt.title(\"plot accuracy vs val accuracy\")\n",
    "plt.legend((\"train\", \"validation\"))\n",
    "plt.show()"
   ]
  },
  {
   "cell_type": "code",
   "execution_count": 35,
   "id": "8e13d060-ecd1-440e-96d9-53547c7dfda5",
   "metadata": {},
   "outputs": [
    {
     "name": "stdout",
     "output_type": "stream",
     "text": [
      "313/313 [==============================] - 3s 9ms/step\n"
     ]
    },
    {
     "data": {
      "text/plain": [
       "<Axes: >"
      ]
     },
     "execution_count": 35,
     "metadata": {},
     "output_type": "execute_result"
    },
    {
     "data": {
      "image/png": "[encoded data removed]",
      "text/plain": [
       "<Figure size 640x480 with 2 Axes>"
      ]
     },
     "metadata": {},
     "output_type": "display_data"
    }
   ],
   "source": [
    "#Plotting the confusion matrix\n",
    "y_pred = model.predict(x_test)\n",
    "y_pred = y_pred > 0.5\n",
    "cm = pd.DataFrame(confusion_matrix(y_test,y_pred),columns=['1','0'],index = ['pred 1','pred 0'])\n",
    "sns.heatmap(cm,fmt='0.04g',annot=True)"
   ]
  },
  {
   "cell_type": "code",
   "execution_count": 36,
   "id": "8aa43d6d-11e4-490d-bc9e-50a30454802a",
   "metadata": {},
   "outputs": [
    {
     "name": "stdout",
     "output_type": "stream",
     "text": [
      "              precision    recall  f1-score   support\n",
      "\n",
      "         0.0       0.89      0.89      0.89      4973\n",
      "         1.0       0.89      0.89      0.89      5027\n",
      "\n",
      "    accuracy                           0.89     10000\n",
      "   macro avg       0.89      0.89      0.89     10000\n",
      "weighted avg       0.89      0.89      0.89     10000\n",
      "\n"
     ]
    }
   ],
   "source": [
    "#Printing classification report\n",
    "print(classification_report(y_test, y_pred))"
   ]
  },
  {
   "cell_type": "markdown",
   "id": "6ee47b30-4c65-457b-87b3-b9218d304764",
   "metadata": {},
   "source": [
    "The accracy and macro f1 scorev of the model increased compared to naive bayes model."
   ]
  },
  {
   "cell_type": "code",
   "execution_count": 75,
   "id": "fc0c7947-0847-4591-b9e6-26c7dd289a24",
   "metadata": {},
   "outputs": [
    {
     "name": "stdout",
     "output_type": "stream",
     "text": [
      "1/1 [==============================] - 0s 63ms/step\n"
     ]
    },
    {
     "data": {
      "text/plain": [
       "[0]"
      ]
     },
     "execution_count": 75,
     "metadata": {},
     "output_type": "execute_result"
    }
   ],
   "source": [
    "# Prediction on test data at index 5\n",
    "y_pred_5 = model.predict(x_test[5:6])\n",
    "y_pred_5 = y_pred_5 > 0.5\n",
    "y_pred_5 = [1 if y_pred_5[0] == True else 0]\n",
    "y_pred_5"
   ]
  },
  {
   "cell_type": "code",
   "execution_count": 76,
   "id": "393c24b0-cfd3-4706-9da4-d2d48eb1bb7d",
   "metadata": {},
   "outputs": [],
   "source": [
    "#Save the model\n",
    "model.save('ann_model.h5')"
   ]
  },
  {
   "cell_type": "code",
   "execution_count": null,
   "id": "8d107522-eb6b-4039-947c-8aec659e8e78",
   "metadata": {},
   "outputs": [],
   "source": []
  }
 ],
 "metadata": {
  "kernelspec": {
   "display_name": "Python 3 (ipykernel)",
   "language": "python",
   "name": "python3"
  },
  "language_info": {
   "codemirror_mode": {
    "name": "ipython",
    "version": 3
   },
   "file_extension": ".py",
   "mimetype": "text/x-python",
   "name": "python",
   "nbconvert_exporter": "python",
   "pygments_lexer": "ipython3",
   "version": "3.8.18"
  }
 },
 "nbformat": 4,
 "nbformat_minor": 5
}
